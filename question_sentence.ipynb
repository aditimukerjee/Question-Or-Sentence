{
  "nbformat": 4,
  "nbformat_minor": 0,
  "metadata": {
    "colab": {
      "name": "question_sentence.ipynb",
      "provenance": [],
      "collapsed_sections": []
    },
    "kernelspec": {
      "name": "python3",
      "display_name": "Python 3"
    },
    "language_info": {
      "name": "python"
    }
  },
  "cells": [
    {
      "cell_type": "code",
      "metadata": {
        "id": "sJLWFJhW_aq-"
      },
      "source": [
        "import pandas as pd\n",
        "import numpy as np"
      ],
      "execution_count": 1,
      "outputs": []
    },
    {
      "cell_type": "code",
      "metadata": {
        "colab": {
          "base_uri": "https://localhost:8080/",
          "height": 204
        },
        "id": "p3y5WmWv_hq5",
        "outputId": "72bf4ddd-114b-485c-ca73-c1aef7db1ace"
      },
      "source": [
        "df = pd.read_excel('/content/drive/MyDrive/aditi/quest_sentence.xlsx')\n",
        "df.head()"
      ],
      "execution_count": 2,
      "outputs": [
        {
          "output_type": "execute_result",
          "data": {
            "text/html": [
              "<div>\n",
              "<style scoped>\n",
              "    .dataframe tbody tr th:only-of-type {\n",
              "        vertical-align: middle;\n",
              "    }\n",
              "\n",
              "    .dataframe tbody tr th {\n",
              "        vertical-align: top;\n",
              "    }\n",
              "\n",
              "    .dataframe thead th {\n",
              "        text-align: right;\n",
              "    }\n",
              "</style>\n",
              "<table border=\"1\" class=\"dataframe\">\n",
              "  <thead>\n",
              "    <tr style=\"text-align: right;\">\n",
              "      <th></th>\n",
              "      <th>Unnamed: 0</th>\n",
              "      <th>Unnamed: 1</th>\n",
              "    </tr>\n",
              "  </thead>\n",
              "  <tbody>\n",
              "    <tr>\n",
              "      <th>0</th>\n",
              "      <td>NaN</td>\n",
              "      <td>It's difficult to see google in a sentence .</td>\n",
              "    </tr>\n",
              "    <tr>\n",
              "      <th>1</th>\n",
              "      <td>NaN</td>\n",
              "      <td>what is my ip ?</td>\n",
              "    </tr>\n",
              "    <tr>\n",
              "      <th>2</th>\n",
              "      <td>NaN</td>\n",
              "      <td>what time is it?</td>\n",
              "    </tr>\n",
              "    <tr>\n",
              "      <th>3</th>\n",
              "      <td>NaN</td>\n",
              "      <td>how to register to vote ?</td>\n",
              "    </tr>\n",
              "    <tr>\n",
              "      <th>4</th>\n",
              "      <td>NaN</td>\n",
              "      <td>can you run it ?</td>\n",
              "    </tr>\n",
              "  </tbody>\n",
              "</table>\n",
              "</div>"
            ],
            "text/plain": [
              "   Unnamed: 0                                    Unnamed: 1\n",
              "0         NaN  It's difficult to see google in a sentence .\n",
              "1         NaN                               what is my ip ?\n",
              "2         NaN                              what time is it?\n",
              "3         NaN                     how to register to vote ?\n",
              "4         NaN                              can you run it ?"
            ]
          },
          "metadata": {
            "tags": []
          },
          "execution_count": 2
        }
      ]
    },
    {
      "cell_type": "code",
      "metadata": {
        "colab": {
          "base_uri": "https://localhost:8080/",
          "height": 204
        },
        "id": "QaRyyiD_Iu13",
        "outputId": "ba66555f-d3c8-40ee-d8bc-9fec6de2281c"
      },
      "source": [
        "df= df.drop(['Unnamed: 0'], axis=1)\n",
        "\n",
        "df = df.rename({'Unnamed: 1': 'find'}, axis=1)  # new method\n",
        "df.head()"
      ],
      "execution_count": 3,
      "outputs": [
        {
          "output_type": "execute_result",
          "data": {
            "text/html": [
              "<div>\n",
              "<style scoped>\n",
              "    .dataframe tbody tr th:only-of-type {\n",
              "        vertical-align: middle;\n",
              "    }\n",
              "\n",
              "    .dataframe tbody tr th {\n",
              "        vertical-align: top;\n",
              "    }\n",
              "\n",
              "    .dataframe thead th {\n",
              "        text-align: right;\n",
              "    }\n",
              "</style>\n",
              "<table border=\"1\" class=\"dataframe\">\n",
              "  <thead>\n",
              "    <tr style=\"text-align: right;\">\n",
              "      <th></th>\n",
              "      <th>find</th>\n",
              "    </tr>\n",
              "  </thead>\n",
              "  <tbody>\n",
              "    <tr>\n",
              "      <th>0</th>\n",
              "      <td>It's difficult to see google in a sentence .</td>\n",
              "    </tr>\n",
              "    <tr>\n",
              "      <th>1</th>\n",
              "      <td>what is my ip ?</td>\n",
              "    </tr>\n",
              "    <tr>\n",
              "      <th>2</th>\n",
              "      <td>what time is it?</td>\n",
              "    </tr>\n",
              "    <tr>\n",
              "      <th>3</th>\n",
              "      <td>how to register to vote ?</td>\n",
              "    </tr>\n",
              "    <tr>\n",
              "      <th>4</th>\n",
              "      <td>can you run it ?</td>\n",
              "    </tr>\n",
              "  </tbody>\n",
              "</table>\n",
              "</div>"
            ],
            "text/plain": [
              "                                           find\n",
              "0  It's difficult to see google in a sentence .\n",
              "1                               what is my ip ?\n",
              "2                              what time is it?\n",
              "3                     how to register to vote ?\n",
              "4                              can you run it ?"
            ]
          },
          "metadata": {
            "tags": []
          },
          "execution_count": 3
        }
      ]
    },
    {
      "cell_type": "code",
      "metadata": {
        "id": "03rrxWOzUkft"
      },
      "source": [
        "df[\"first_word\"] = df[\"find\"].apply(lambda x: x.lower().split()[0])\n",
        "\n"
      ],
      "execution_count": 8,
      "outputs": []
    },
    {
      "cell_type": "code",
      "metadata": {
        "id": "nYqZxyUXa-yM"
      },
      "source": [
        "df[\"last_word\"] = df[\"find\"].apply(lambda x: x.lower().split()[-1])"
      ],
      "execution_count": 9,
      "outputs": []
    },
    {
      "cell_type": "code",
      "metadata": {
        "colab": {
          "base_uri": "https://localhost:8080/",
          "height": 111
        },
        "id": "44UCIvBWUoUi",
        "outputId": "9b3f8088-0a35-41f7-b1ee-c7fa4c7b96df"
      },
      "source": [
        "df.head(2)"
      ],
      "execution_count": 52,
      "outputs": [
        {
          "output_type": "execute_result",
          "data": {
            "text/html": [
              "<div>\n",
              "<style scoped>\n",
              "    .dataframe tbody tr th:only-of-type {\n",
              "        vertical-align: middle;\n",
              "    }\n",
              "\n",
              "    .dataframe tbody tr th {\n",
              "        vertical-align: top;\n",
              "    }\n",
              "\n",
              "    .dataframe thead th {\n",
              "        text-align: right;\n",
              "    }\n",
              "</style>\n",
              "<table border=\"1\" class=\"dataframe\">\n",
              "  <thead>\n",
              "    <tr style=\"text-align: right;\">\n",
              "      <th></th>\n",
              "      <th>find</th>\n",
              "      <th>first_word</th>\n",
              "      <th>last_word</th>\n",
              "      <th>label</th>\n",
              "    </tr>\n",
              "  </thead>\n",
              "  <tbody>\n",
              "    <tr>\n",
              "      <th>0</th>\n",
              "      <td>It's difficult to see google in a sentence .</td>\n",
              "      <td>it's</td>\n",
              "      <td>.</td>\n",
              "      <td>it is a sentence</td>\n",
              "    </tr>\n",
              "    <tr>\n",
              "      <th>1</th>\n",
              "      <td>what is my ip ?</td>\n",
              "      <td>what</td>\n",
              "      <td>?</td>\n",
              "      <td>it is a question</td>\n",
              "    </tr>\n",
              "  </tbody>\n",
              "</table>\n",
              "</div>"
            ],
            "text/plain": [
              "                                           find  ...             label\n",
              "0  It's difficult to see google in a sentence .  ...  it is a sentence\n",
              "1                               what is my ip ?  ...  it is a question\n",
              "\n",
              "[2 rows x 4 columns]"
            ]
          },
          "metadata": {
            "tags": []
          },
          "execution_count": 52
        }
      ]
    },
    {
      "cell_type": "code",
      "metadata": {
        "id": "5qdczscR_Y9E"
      },
      "source": [
        "def ques_sen(col):\n",
        "    if (col['first_word'] == 'how'):\n",
        "        return 'it is a question'\n",
        "    elif (col['first_word'] == 'why'):\n",
        "        return 'it is a question'\n",
        "    elif (col['first_word'] == 'when'):\n",
        "        return 'it is a question'\n",
        "    elif (col['first_word'] == 'can'):\n",
        "        return 'it is a question' \n",
        "    elif (col['last_word'] == '?'):\n",
        "        return 'it is a question'       \n",
        "    else:\n",
        "         return 'it is a sentence'"
      ],
      "execution_count": 58,
      "outputs": []
    },
    {
      "cell_type": "code",
      "metadata": {
        "id": "eHrcTIO67nmY"
      },
      "source": [
        "df['label'] =df.apply(ques_sen, axis = 1)"
      ],
      "execution_count": 59,
      "outputs": []
    },
    {
      "cell_type": "code",
      "metadata": {
        "colab": {
          "base_uri": "https://localhost:8080/",
          "height": 700
        },
        "id": "AZ4rpSz4Bt3V",
        "outputId": "8b1cbb6e-9cd6-4610-9e51-82006b26aac4"
      },
      "source": [
        "df"
      ],
      "execution_count": 60,
      "outputs": [
        {
          "output_type": "execute_result",
          "data": {
            "text/html": [
              "<div>\n",
              "<style scoped>\n",
              "    .dataframe tbody tr th:only-of-type {\n",
              "        vertical-align: middle;\n",
              "    }\n",
              "\n",
              "    .dataframe tbody tr th {\n",
              "        vertical-align: top;\n",
              "    }\n",
              "\n",
              "    .dataframe thead th {\n",
              "        text-align: right;\n",
              "    }\n",
              "</style>\n",
              "<table border=\"1\" class=\"dataframe\">\n",
              "  <thead>\n",
              "    <tr style=\"text-align: right;\">\n",
              "      <th></th>\n",
              "      <th>find</th>\n",
              "      <th>first_word</th>\n",
              "      <th>last_word</th>\n",
              "      <th>label</th>\n",
              "    </tr>\n",
              "  </thead>\n",
              "  <tbody>\n",
              "    <tr>\n",
              "      <th>0</th>\n",
              "      <td>It's difficult to see google in a sentence .</td>\n",
              "      <td>it's</td>\n",
              "      <td>.</td>\n",
              "      <td>it is a sentence</td>\n",
              "    </tr>\n",
              "    <tr>\n",
              "      <th>1</th>\n",
              "      <td>what is my ip ?</td>\n",
              "      <td>what</td>\n",
              "      <td>?</td>\n",
              "      <td>it is a question</td>\n",
              "    </tr>\n",
              "    <tr>\n",
              "      <th>2</th>\n",
              "      <td>what time is it?</td>\n",
              "      <td>what</td>\n",
              "      <td>it?</td>\n",
              "      <td>it is a sentence</td>\n",
              "    </tr>\n",
              "    <tr>\n",
              "      <th>3</th>\n",
              "      <td>how to register to vote ?</td>\n",
              "      <td>how</td>\n",
              "      <td>?</td>\n",
              "      <td>it is a question</td>\n",
              "    </tr>\n",
              "    <tr>\n",
              "      <th>4</th>\n",
              "      <td>can you run it ?</td>\n",
              "      <td>can</td>\n",
              "      <td>?</td>\n",
              "      <td>it is a question</td>\n",
              "    </tr>\n",
              "    <tr>\n",
              "      <th>5</th>\n",
              "      <td>Google says its search engine reflects whateve...</td>\n",
              "      <td>google</td>\n",
              "      <td>internet.</td>\n",
              "      <td>it is a sentence</td>\n",
              "    </tr>\n",
              "    <tr>\n",
              "      <th>6</th>\n",
              "      <td>what song is this ?</td>\n",
              "      <td>what</td>\n",
              "      <td>?</td>\n",
              "      <td>it is a question</td>\n",
              "    </tr>\n",
              "    <tr>\n",
              "      <th>7</th>\n",
              "      <td>Traffic to its own Google.com Web site was sur...</td>\n",
              "      <td>traffic</td>\n",
              "      <td>surging.</td>\n",
              "      <td>it is a sentence</td>\n",
              "    </tr>\n",
              "    <tr>\n",
              "      <th>8</th>\n",
              "      <td>how to lose weight ?</td>\n",
              "      <td>how</td>\n",
              "      <td>?</td>\n",
              "      <td>it is a question</td>\n",
              "    </tr>\n",
              "    <tr>\n",
              "      <th>9</th>\n",
              "      <td>how many ounces in a cup ?</td>\n",
              "      <td>how</td>\n",
              "      <td>?</td>\n",
              "      <td>it is a question</td>\n",
              "    </tr>\n",
              "    <tr>\n",
              "      <th>10</th>\n",
              "      <td>Google's competitors aren't rolling over, howe...</td>\n",
              "      <td>google's</td>\n",
              "      <td>however.</td>\n",
              "      <td>it is a sentence</td>\n",
              "    </tr>\n",
              "    <tr>\n",
              "      <th>11</th>\n",
              "      <td>when is mothers day ?</td>\n",
              "      <td>when</td>\n",
              "      <td>?</td>\n",
              "      <td>it is a question</td>\n",
              "    </tr>\n",
              "    <tr>\n",
              "      <th>12</th>\n",
              "      <td>how many ounces in a pound ?</td>\n",
              "      <td>how</td>\n",
              "      <td>?</td>\n",
              "      <td>it is a question</td>\n",
              "    </tr>\n",
              "    <tr>\n",
              "      <th>13</th>\n",
              "      <td>how to get pregnant ?</td>\n",
              "      <td>how</td>\n",
              "      <td>?</td>\n",
              "      <td>it is a question</td>\n",
              "    </tr>\n",
              "    <tr>\n",
              "      <th>14</th>\n",
              "      <td>UBid is up against EBay</td>\n",
              "      <td>ubid</td>\n",
              "      <td>ebay</td>\n",
              "      <td>it is a sentence</td>\n",
              "    </tr>\n",
              "    <tr>\n",
              "      <th>15</th>\n",
              "      <td>If you haven't, Google predicts you soon will.</td>\n",
              "      <td>if</td>\n",
              "      <td>will.</td>\n",
              "      <td>it is a sentence</td>\n",
              "    </tr>\n",
              "    <tr>\n",
              "      <th>16</th>\n",
              "      <td>You can also search a number of Apple newsgrou...</td>\n",
              "      <td>you</td>\n",
              "      <td>google.</td>\n",
              "      <td>it is a sentence</td>\n",
              "    </tr>\n",
              "    <tr>\n",
              "      <th>17</th>\n",
              "      <td>She says she believes Google may still be puni...</td>\n",
              "      <td>she</td>\n",
              "      <td>somehow.</td>\n",
              "      <td>it is a sentence</td>\n",
              "    </tr>\n",
              "    <tr>\n",
              "      <th>18</th>\n",
              "      <td>But FAST has been unable to approach the popul...</td>\n",
              "      <td>but</td>\n",
              "      <td>google.</td>\n",
              "      <td>it is a sentence</td>\n",
              "    </tr>\n",
              "    <tr>\n",
              "      <th>19</th>\n",
              "      <td>Google will grow in the year ahead and probabl...</td>\n",
              "      <td>google</td>\n",
              "      <td>that.</td>\n",
              "      <td>it is a sentence</td>\n",
              "    </tr>\n",
              "    <tr>\n",
              "      <th>20</th>\n",
              "      <td>Actually, maybe I'd better go Google that one.</td>\n",
              "      <td>actually,</td>\n",
              "      <td>one.</td>\n",
              "      <td>it is a sentence</td>\n",
              "    </tr>\n",
              "  </tbody>\n",
              "</table>\n",
              "</div>"
            ],
            "text/plain": [
              "                                                 find  ...             label\n",
              "0        It's difficult to see google in a sentence .  ...  it is a sentence\n",
              "1                                     what is my ip ?  ...  it is a question\n",
              "2                                    what time is it?  ...  it is a sentence\n",
              "3                           how to register to vote ?  ...  it is a question\n",
              "4                                    can you run it ?  ...  it is a question\n",
              "5   Google says its search engine reflects whateve...  ...  it is a sentence\n",
              "6                                 what song is this ?  ...  it is a question\n",
              "7   Traffic to its own Google.com Web site was sur...  ...  it is a sentence\n",
              "8                                how to lose weight ?  ...  it is a question\n",
              "9                          how many ounces in a cup ?  ...  it is a question\n",
              "10  Google's competitors aren't rolling over, howe...  ...  it is a sentence\n",
              "11                              when is mothers day ?  ...  it is a question\n",
              "12                       how many ounces in a pound ?  ...  it is a question\n",
              "13                              how to get pregnant ?  ...  it is a question\n",
              "14                            UBid is up against EBay  ...  it is a sentence\n",
              "15     If you haven't, Google predicts you soon will.  ...  it is a sentence\n",
              "16  You can also search a number of Apple newsgrou...  ...  it is a sentence\n",
              "17  She says she believes Google may still be puni...  ...  it is a sentence\n",
              "18  But FAST has been unable to approach the popul...  ...  it is a sentence\n",
              "19  Google will grow in the year ahead and probabl...  ...  it is a sentence\n",
              "20     Actually, maybe I'd better go Google that one.  ...  it is a sentence\n",
              "\n",
              "[21 rows x 4 columns]"
            ]
          },
          "metadata": {
            "tags": []
          },
          "execution_count": 60
        }
      ]
    }
  ]
}